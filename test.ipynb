{
 "cells": [
  {
   "cell_type": "code",
   "id": "initial_id",
   "metadata": {
    "collapsed": true,
    "ExecuteTime": {
     "end_time": "2025-10-07T20:14:29.228696Z",
     "start_time": "2025-10-07T20:14:28.755749Z"
    }
   },
   "source": [
    "import torch\n",
    "\n",
    "# 这行代码会自动尝试从模型作者的 PyTorch Hub 仓库中下载权重。\n",
    "# 如果 PyTorch Hub 托管的权重还在，就会成功。\n",
    "try:\n",
    "    model = torch.hub.load(\n",
    "        'nicolalandro/ntsnet-cub200',\n",
    "        'ntsnet',\n",
    "        pretrained=True,\n",
    "        # 其他参数保持默认或按需调整\n",
    "    )\n",
    "    print(\"NTS-Net 模型和权重加载成功！\")\n",
    "except Exception as e:\n",
    "    print(f\"PyTorch Hub 加载失败: {e}\")"
   ],
   "outputs": [
    {
     "name": "stderr",
     "output_type": "stream",
     "text": [
      "Using cache found in /Users/jameszhenyu/.cache/torch/hub/nicolalandro_ntsnet-cub200_master\n"
     ]
    },
    {
     "name": "stdout",
     "output_type": "stream",
     "text": [
      "PyTorch Hub 加载失败: module 'numpy' has no attribute 'int'.\n",
      "`np.int` was a deprecated alias for the builtin `int`. To avoid this error in existing code, use `int` by itself. Doing this will not modify any behavior and is safe. When replacing `np.int`, you may wish to use e.g. `np.int64` or `np.int32` to specify the precision. If you wish to review your current use, check the release note link for additional information.\n",
      "The aliases was originally deprecated in NumPy 1.20; for more details and guidance see the original release note at:\n",
      "    https://numpy.org/devdocs/release/1.20.0-notes.html#deprecations\n"
     ]
    }
   ],
   "execution_count": 2
  }
 ],
 "metadata": {
  "kernelspec": {
   "display_name": "Python 3",
   "language": "python",
   "name": "python3"
  },
  "language_info": {
   "codemirror_mode": {
    "name": "ipython",
    "version": 2
   },
   "file_extension": ".py",
   "mimetype": "text/x-python",
   "name": "python",
   "nbconvert_exporter": "python",
   "pygments_lexer": "ipython2",
   "version": "2.7.6"
  }
 },
 "nbformat": 4,
 "nbformat_minor": 5
}
